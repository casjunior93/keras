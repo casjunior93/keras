{
  "cells": [
    {
      "cell_type": "markdown",
      "metadata": {
        "id": "view-in-github",
        "colab_type": "text"
      },
      "source": [
        "<a href=\"https://colab.research.google.com/github/casjunior93/keras-tensorflow/blob/main/Pr%C3%A9_processamento_de_atributos_com_Keras_FeatureSpace.ipynb\" target=\"_parent\"><img src=\"https://colab.research.google.com/assets/colab-badge.svg\" alt=\"Open In Colab\"/></a>"
      ]
    },
    {
      "cell_type": "markdown",
      "metadata": {
        "id": "yA_4URuS9Lv5"
      },
      "source": [
        "# Structured data classification with FeatureSpace\n",
        "\n",
        "**Author:** [fchollet](https://twitter.com/fchollet)<br>\n",
        "**Date created:** 2022/11/09<br>\n",
        "**Last modified:** 2022/11/09<br>\n",
        "**Description:** Classify tabular data in a few lines of code."
      ]
    },
    {
      "cell_type": "markdown",
      "metadata": {
        "id": "_1diLI1R9LwC"
      },
      "source": [
        "## Introduction\n",
        "\n",
        "This example demonstrates how to do structured data classification\n",
        "(also known as tabular data classification), starting from a raw\n",
        "CSV file. Our data includes numerical features,\n",
        "and integer categorical features, and string categorical features.\n",
        "We will use the utility `keras.utils.FeatureSpace` to index,\n",
        "preprocess, and encode our features.\n",
        "\n",
        "The code is adapted from the example\n",
        "[Structured data classification from scratch](https://keras.io/examples/structured_data/structured_data_classification_from_scratch/).\n",
        "While the previous example managed its own low-level feature preprocessing and\n",
        "encoding with Keras preprocessing layers, in this example we\n",
        "delegate everything to `FeatureSpace`, making the workflow\n",
        "extremely quick and easy.\n",
        "\n",
        "Note that this example should be run with TensorFlow 2.12 or higher.\n",
        "Before the release of TensorFlow 2.12, you can use `tf-nightly`.\n",
        "\n",
        "### The dataset\n",
        "\n",
        "[Our dataset](https://archive.ics.uci.edu/ml/datasets/heart+Disease) is provided by the\n",
        "Cleveland Clinic Foundation for Heart Disease.\n",
        "It's a CSV file with 303 rows. Each row contains information about a patient (a\n",
        "**sample**), and each column describes an attribute of the patient (a **feature**). We\n",
        "use the features to predict whether a patient has a heart disease\n",
        "(**binary classification**).\n",
        "\n",
        "Here's the description of each feature:\n",
        "\n",
        "Column| Description| Feature Type\n",
        "------------|--------------------|----------------------\n",
        "Age | Age in years | Numerical\n",
        "Sex | (1 = male; 0 = female) | Categorical\n",
        "CP | Chest pain type (0, 1, 2, 3, 4) | Categorical\n",
        "Trestbpd | Resting blood pressure (in mm Hg on admission) | Numerical\n",
        "Chol | Serum cholesterol in mg/dl | Numerical\n",
        "FBS | fasting blood sugar in 120 mg/dl (1 = true; 0 = false) | Categorical\n",
        "RestECG | Resting electrocardiogram results (0, 1, 2) | Categorical\n",
        "Thalach | Maximum heart rate achieved | Numerical\n",
        "Exang | Exercise induced angina (1 = yes; 0 = no) | Categorical\n",
        "Oldpeak | ST depression induced by exercise relative to rest | Numerical\n",
        "Slope | Slope of the peak exercise ST segment | Numerical\n",
        "CA | Number of major vessels (0-3) colored by fluoroscopy | Both numerical & categorical\n",
        "Thal | 3 = normal; 6 = fixed defect; 7 = reversible defect | Categorical\n",
        "Target | Diagnosis of heart disease (1 = true; 0 = false) | Target"
      ]
    },
    {
      "cell_type": "markdown",
      "metadata": {
        "id": "pVxCWvgX9LwE"
      },
      "source": [
        "## Setup"
      ]
    },
    {
      "cell_type": "code",
      "execution_count": 1,
      "metadata": {
        "id": "BAUUDI359LwF"
      },
      "outputs": [],
      "source": [
        "import tensorflow as tf\n",
        "import pandas as pd\n",
        "from tensorflow import keras"
      ]
    },
    {
      "cell_type": "markdown",
      "metadata": {
        "id": "lGbGs3hR9LwJ"
      },
      "source": [
        "## Preparing the data\n",
        "\n",
        "Let's download the data and load it into a Pandas dataframe:"
      ]
    },
    {
      "cell_type": "code",
      "execution_count": 2,
      "metadata": {
        "id": "HAbMz7EY9LwK"
      },
      "outputs": [],
      "source": [
        "file_url = \"http://storage.googleapis.com/download.tensorflow.org/data/heart.csv\"\n",
        "dataframe = pd.read_csv(file_url)"
      ]
    },
    {
      "cell_type": "markdown",
      "metadata": {
        "id": "dbBwanto9LwL"
      },
      "source": [
        "The dataset includes 303 samples with 14 columns per sample\n",
        "(13 features, plus the target label):"
      ]
    },
    {
      "cell_type": "code",
      "execution_count": 3,
      "metadata": {
        "id": "4ZAkhJT79LwM",
        "outputId": "23211198-3b7c-4f06-d7e3-c802b895da07",
        "colab": {
          "base_uri": "https://localhost:8080/"
        }
      },
      "outputs": [
        {
          "output_type": "stream",
          "name": "stdout",
          "text": [
            "(303, 14)\n"
          ]
        }
      ],
      "source": [
        "print(dataframe.shape)"
      ]
    },
    {
      "cell_type": "markdown",
      "metadata": {
        "id": "JzfH6YFg9LwN"
      },
      "source": [
        "Here's a preview of a few samples:"
      ]
    },
    {
      "cell_type": "code",
      "execution_count": 4,
      "metadata": {
        "id": "DSlo1Zv09LwO",
        "outputId": "f9e68184-a323-4ae7-fa41-02c54ae9a804",
        "colab": {
          "base_uri": "https://localhost:8080/",
          "height": 270
        }
      },
      "outputs": [
        {
          "output_type": "execute_result",
          "data": {
            "text/plain": [
              "   age  sex  cp  trestbps  chol  fbs  restecg  thalach  exang  oldpeak  slope  \\\n",
              "0   63    1   1       145   233    1        2      150      0      2.3      3   \n",
              "1   67    1   4       160   286    0        2      108      1      1.5      2   \n",
              "2   67    1   4       120   229    0        2      129      1      2.6      2   \n",
              "3   37    1   3       130   250    0        0      187      0      3.5      3   \n",
              "4   41    0   2       130   204    0        2      172      0      1.4      1   \n",
              "\n",
              "   ca        thal  target  \n",
              "0   0       fixed       0  \n",
              "1   3      normal       1  \n",
              "2   2  reversible       0  \n",
              "3   0      normal       0  \n",
              "4   0      normal       0  "
            ],
            "text/html": [
              "\n",
              "  <div id=\"df-42f0138d-cbbe-47e4-91b7-fc41f873600c\">\n",
              "    <div class=\"colab-df-container\">\n",
              "      <div>\n",
              "<style scoped>\n",
              "    .dataframe tbody tr th:only-of-type {\n",
              "        vertical-align: middle;\n",
              "    }\n",
              "\n",
              "    .dataframe tbody tr th {\n",
              "        vertical-align: top;\n",
              "    }\n",
              "\n",
              "    .dataframe thead th {\n",
              "        text-align: right;\n",
              "    }\n",
              "</style>\n",
              "<table border=\"1\" class=\"dataframe\">\n",
              "  <thead>\n",
              "    <tr style=\"text-align: right;\">\n",
              "      <th></th>\n",
              "      <th>age</th>\n",
              "      <th>sex</th>\n",
              "      <th>cp</th>\n",
              "      <th>trestbps</th>\n",
              "      <th>chol</th>\n",
              "      <th>fbs</th>\n",
              "      <th>restecg</th>\n",
              "      <th>thalach</th>\n",
              "      <th>exang</th>\n",
              "      <th>oldpeak</th>\n",
              "      <th>slope</th>\n",
              "      <th>ca</th>\n",
              "      <th>thal</th>\n",
              "      <th>target</th>\n",
              "    </tr>\n",
              "  </thead>\n",
              "  <tbody>\n",
              "    <tr>\n",
              "      <th>0</th>\n",
              "      <td>63</td>\n",
              "      <td>1</td>\n",
              "      <td>1</td>\n",
              "      <td>145</td>\n",
              "      <td>233</td>\n",
              "      <td>1</td>\n",
              "      <td>2</td>\n",
              "      <td>150</td>\n",
              "      <td>0</td>\n",
              "      <td>2.3</td>\n",
              "      <td>3</td>\n",
              "      <td>0</td>\n",
              "      <td>fixed</td>\n",
              "      <td>0</td>\n",
              "    </tr>\n",
              "    <tr>\n",
              "      <th>1</th>\n",
              "      <td>67</td>\n",
              "      <td>1</td>\n",
              "      <td>4</td>\n",
              "      <td>160</td>\n",
              "      <td>286</td>\n",
              "      <td>0</td>\n",
              "      <td>2</td>\n",
              "      <td>108</td>\n",
              "      <td>1</td>\n",
              "      <td>1.5</td>\n",
              "      <td>2</td>\n",
              "      <td>3</td>\n",
              "      <td>normal</td>\n",
              "      <td>1</td>\n",
              "    </tr>\n",
              "    <tr>\n",
              "      <th>2</th>\n",
              "      <td>67</td>\n",
              "      <td>1</td>\n",
              "      <td>4</td>\n",
              "      <td>120</td>\n",
              "      <td>229</td>\n",
              "      <td>0</td>\n",
              "      <td>2</td>\n",
              "      <td>129</td>\n",
              "      <td>1</td>\n",
              "      <td>2.6</td>\n",
              "      <td>2</td>\n",
              "      <td>2</td>\n",
              "      <td>reversible</td>\n",
              "      <td>0</td>\n",
              "    </tr>\n",
              "    <tr>\n",
              "      <th>3</th>\n",
              "      <td>37</td>\n",
              "      <td>1</td>\n",
              "      <td>3</td>\n",
              "      <td>130</td>\n",
              "      <td>250</td>\n",
              "      <td>0</td>\n",
              "      <td>0</td>\n",
              "      <td>187</td>\n",
              "      <td>0</td>\n",
              "      <td>3.5</td>\n",
              "      <td>3</td>\n",
              "      <td>0</td>\n",
              "      <td>normal</td>\n",
              "      <td>0</td>\n",
              "    </tr>\n",
              "    <tr>\n",
              "      <th>4</th>\n",
              "      <td>41</td>\n",
              "      <td>0</td>\n",
              "      <td>2</td>\n",
              "      <td>130</td>\n",
              "      <td>204</td>\n",
              "      <td>0</td>\n",
              "      <td>2</td>\n",
              "      <td>172</td>\n",
              "      <td>0</td>\n",
              "      <td>1.4</td>\n",
              "      <td>1</td>\n",
              "      <td>0</td>\n",
              "      <td>normal</td>\n",
              "      <td>0</td>\n",
              "    </tr>\n",
              "  </tbody>\n",
              "</table>\n",
              "</div>\n",
              "      <button class=\"colab-df-convert\" onclick=\"convertToInteractive('df-42f0138d-cbbe-47e4-91b7-fc41f873600c')\"\n",
              "              title=\"Convert this dataframe to an interactive table.\"\n",
              "              style=\"display:none;\">\n",
              "        \n",
              "  <svg xmlns=\"http://www.w3.org/2000/svg\" height=\"24px\"viewBox=\"0 0 24 24\"\n",
              "       width=\"24px\">\n",
              "    <path d=\"M0 0h24v24H0V0z\" fill=\"none\"/>\n",
              "    <path d=\"M18.56 5.44l.94 2.06.94-2.06 2.06-.94-2.06-.94-.94-2.06-.94 2.06-2.06.94zm-11 1L8.5 8.5l.94-2.06 2.06-.94-2.06-.94L8.5 2.5l-.94 2.06-2.06.94zm10 10l.94 2.06.94-2.06 2.06-.94-2.06-.94-.94-2.06-.94 2.06-2.06.94z\"/><path d=\"M17.41 7.96l-1.37-1.37c-.4-.4-.92-.59-1.43-.59-.52 0-1.04.2-1.43.59L10.3 9.45l-7.72 7.72c-.78.78-.78 2.05 0 2.83L4 21.41c.39.39.9.59 1.41.59.51 0 1.02-.2 1.41-.59l7.78-7.78 2.81-2.81c.8-.78.8-2.07 0-2.86zM5.41 20L4 18.59l7.72-7.72 1.47 1.35L5.41 20z\"/>\n",
              "  </svg>\n",
              "      </button>\n",
              "      \n",
              "  <style>\n",
              "    .colab-df-container {\n",
              "      display:flex;\n",
              "      flex-wrap:wrap;\n",
              "      gap: 12px;\n",
              "    }\n",
              "\n",
              "    .colab-df-convert {\n",
              "      background-color: #E8F0FE;\n",
              "      border: none;\n",
              "      border-radius: 50%;\n",
              "      cursor: pointer;\n",
              "      display: none;\n",
              "      fill: #1967D2;\n",
              "      height: 32px;\n",
              "      padding: 0 0 0 0;\n",
              "      width: 32px;\n",
              "    }\n",
              "\n",
              "    .colab-df-convert:hover {\n",
              "      background-color: #E2EBFA;\n",
              "      box-shadow: 0px 1px 2px rgba(60, 64, 67, 0.3), 0px 1px 3px 1px rgba(60, 64, 67, 0.15);\n",
              "      fill: #174EA6;\n",
              "    }\n",
              "\n",
              "    [theme=dark] .colab-df-convert {\n",
              "      background-color: #3B4455;\n",
              "      fill: #D2E3FC;\n",
              "    }\n",
              "\n",
              "    [theme=dark] .colab-df-convert:hover {\n",
              "      background-color: #434B5C;\n",
              "      box-shadow: 0px 1px 3px 1px rgba(0, 0, 0, 0.15);\n",
              "      filter: drop-shadow(0px 1px 2px rgba(0, 0, 0, 0.3));\n",
              "      fill: #FFFFFF;\n",
              "    }\n",
              "  </style>\n",
              "\n",
              "      <script>\n",
              "        const buttonEl =\n",
              "          document.querySelector('#df-42f0138d-cbbe-47e4-91b7-fc41f873600c button.colab-df-convert');\n",
              "        buttonEl.style.display =\n",
              "          google.colab.kernel.accessAllowed ? 'block' : 'none';\n",
              "\n",
              "        async function convertToInteractive(key) {\n",
              "          const element = document.querySelector('#df-42f0138d-cbbe-47e4-91b7-fc41f873600c');\n",
              "          const dataTable =\n",
              "            await google.colab.kernel.invokeFunction('convertToInteractive',\n",
              "                                                     [key], {});\n",
              "          if (!dataTable) return;\n",
              "\n",
              "          const docLinkHtml = 'Like what you see? Visit the ' +\n",
              "            '<a target=\"_blank\" href=https://colab.research.google.com/notebooks/data_table.ipynb>data table notebook</a>'\n",
              "            + ' to learn more about interactive tables.';\n",
              "          element.innerHTML = '';\n",
              "          dataTable['output_type'] = 'display_data';\n",
              "          await google.colab.output.renderOutput(dataTable, element);\n",
              "          const docLink = document.createElement('div');\n",
              "          docLink.innerHTML = docLinkHtml;\n",
              "          element.appendChild(docLink);\n",
              "        }\n",
              "      </script>\n",
              "    </div>\n",
              "  </div>\n",
              "  "
            ]
          },
          "metadata": {},
          "execution_count": 4
        }
      ],
      "source": [
        "dataframe.head()"
      ]
    },
    {
      "cell_type": "markdown",
      "metadata": {
        "id": "Nj4in_Ip9LwP"
      },
      "source": [
        "The last column, \"target\", indicates whether the patient\n",
        "has a heart disease (1) or not (0).\n",
        "\n",
        "Let's split the data into a training and validation set:"
      ]
    },
    {
      "cell_type": "code",
      "execution_count": 5,
      "metadata": {
        "id": "tfpIV0_s9LwP",
        "outputId": "bad50e56-342f-41f3-b4d0-c10b781567c8",
        "colab": {
          "base_uri": "https://localhost:8080/"
        }
      },
      "outputs": [
        {
          "output_type": "stream",
          "name": "stdout",
          "text": [
            "Using 242 samples for training and 61 for validation\n"
          ]
        }
      ],
      "source": [
        "val_dataframe = dataframe.sample(frac=0.2, random_state=1337)\n",
        "train_dataframe = dataframe.drop(val_dataframe.index)\n",
        "\n",
        "print(\n",
        "    \"Using %d samples for training and %d for validation\"\n",
        "    % (len(train_dataframe), len(val_dataframe))\n",
        ")"
      ]
    },
    {
      "cell_type": "markdown",
      "metadata": {
        "id": "NNKHZpOM9LwQ"
      },
      "source": [
        "Let's generate `tf.data.Dataset` objects for each dataframe:"
      ]
    },
    {
      "cell_type": "code",
      "execution_count": 6,
      "metadata": {
        "id": "v6ntIv4N9LwQ"
      },
      "outputs": [],
      "source": [
        "\n",
        "def dataframe_to_dataset(dataframe):\n",
        "    dataframe = dataframe.copy()\n",
        "    labels = dataframe.pop(\"target\")\n",
        "    ds = tf.data.Dataset.from_tensor_slices((dict(dataframe), labels))\n",
        "    ds = ds.shuffle(buffer_size=len(dataframe))\n",
        "    return ds\n",
        "\n",
        "\n",
        "train_ds = dataframe_to_dataset(train_dataframe)\n",
        "val_ds = dataframe_to_dataset(val_dataframe)"
      ]
    },
    {
      "cell_type": "markdown",
      "metadata": {
        "id": "mgesKQuf9LwR"
      },
      "source": [
        "Each `Dataset` yields a tuple `(input, target)` where `input` is a dictionary of features\n",
        "and `target` is the value `0` or `1`:"
      ]
    },
    {
      "cell_type": "code",
      "execution_count": 7,
      "metadata": {
        "id": "rJSvfAax9LwR",
        "outputId": "e49da62d-eb27-4581-dbf0-1e8310fab34e",
        "colab": {
          "base_uri": "https://localhost:8080/"
        }
      },
      "outputs": [
        {
          "output_type": "stream",
          "name": "stdout",
          "text": [
            "Input: {'age': <tf.Tensor: shape=(), dtype=int64, numpy=66>, 'sex': <tf.Tensor: shape=(), dtype=int64, numpy=0>, 'cp': <tf.Tensor: shape=(), dtype=int64, numpy=1>, 'trestbps': <tf.Tensor: shape=(), dtype=int64, numpy=150>, 'chol': <tf.Tensor: shape=(), dtype=int64, numpy=226>, 'fbs': <tf.Tensor: shape=(), dtype=int64, numpy=0>, 'restecg': <tf.Tensor: shape=(), dtype=int64, numpy=0>, 'thalach': <tf.Tensor: shape=(), dtype=int64, numpy=114>, 'exang': <tf.Tensor: shape=(), dtype=int64, numpy=0>, 'oldpeak': <tf.Tensor: shape=(), dtype=float64, numpy=2.6>, 'slope': <tf.Tensor: shape=(), dtype=int64, numpy=3>, 'ca': <tf.Tensor: shape=(), dtype=int64, numpy=0>, 'thal': <tf.Tensor: shape=(), dtype=string, numpy=b'normal'>}\n",
            "Target: tf.Tensor(0, shape=(), dtype=int64)\n"
          ]
        }
      ],
      "source": [
        "for x, y in train_ds.take(1):\n",
        "    print(\"Input:\", x)\n",
        "    print(\"Target:\", y)"
      ]
    },
    {
      "cell_type": "markdown",
      "metadata": {
        "id": "mKzF3j_89LwS"
      },
      "source": [
        "Let's batch the datasets:"
      ]
    },
    {
      "cell_type": "code",
      "execution_count": 8,
      "metadata": {
        "id": "P4WxWSEw9LwS"
      },
      "outputs": [],
      "source": [
        "train_ds = train_ds.batch(32)\n",
        "val_ds = val_ds.batch(32)"
      ]
    },
    {
      "cell_type": "markdown",
      "metadata": {
        "id": "jzKItqcW9LwT"
      },
      "source": [
        "## Configuring a `FeatureSpace`\n",
        "\n",
        "To configure how each feature should be preprocessed,\n",
        "we instantiate a `keras.utils.FeatureSpace`, and we\n",
        "pass to it a dictionary that maps the name of our features\n",
        "to a string that describes the feature type.\n",
        "\n",
        "We have a few \"integer categorical\" features such as `\"FBS\"`,\n",
        "one \"string categorical\" feature (`\"thal\"`),\n",
        "and a few numerical features, which we'd like to normalize\n",
        "-- except `\"age\"`, which we'd like to discretize into\n",
        "a number of bins.\n",
        "\n",
        "We also use the `crosses` argument\n",
        "to capture *feature interactions* for some categorical\n",
        "features, that is to say, create additional features\n",
        "that represent value co-occurrences for these categorical features.\n",
        "You can compute feature crosses like this for arbitrary sets of\n",
        "categorical features -- not just tuples of two features.\n",
        "Because the resulting co-occurences are hashed\n",
        "into a fixed-sized vector, you don't need to worry about whether\n",
        "the co-occurence space is too large."
      ]
    },
    {
      "cell_type": "code",
      "execution_count": 9,
      "metadata": {
        "id": "6pLtBRdN9LwT"
      },
      "outputs": [],
      "source": [
        "from keras.utils import FeatureSpace\n",
        "\n",
        "feature_space = FeatureSpace(\n",
        "    features={\n",
        "        # Categorical features encoded as integers\n",
        "        \"sex\": \"integer_categorical\",\n",
        "        \"cp\": \"integer_categorical\",\n",
        "        \"fbs\": \"integer_categorical\",\n",
        "        \"restecg\": \"integer_categorical\",\n",
        "        \"exang\": \"integer_categorical\",\n",
        "        \"ca\": \"integer_categorical\",\n",
        "        # Categorical feature encoded as string\n",
        "        \"thal\": \"string_categorical\",\n",
        "        # Numerical features to discretize\n",
        "        \"age\": \"float_discretized\",\n",
        "        # Numerical features to normalize\n",
        "        \"trestbps\": \"float_normalized\",\n",
        "        \"chol\": \"float_normalized\",\n",
        "        \"thalach\": \"float_normalized\",\n",
        "        \"oldpeak\": \"float_normalized\",\n",
        "        \"slope\": \"float_normalized\",\n",
        "    },\n",
        "    # We create additional features by hashing\n",
        "    # value co-occurrences for the\n",
        "    # following groups of categorical features.\n",
        "    crosses=[(\"sex\", \"age\"), (\"thal\", \"ca\")],\n",
        "    # The hashing space for these co-occurrences\n",
        "    # wil be 32-dimensional.\n",
        "    crossing_dim=32,\n",
        "    # Our utility will one-hot encode all categorical\n",
        "    # features and concat all features into a single\n",
        "    # vector (one vector per sample).\n",
        "    output_mode=\"concat\",\n",
        ")"
      ]
    },
    {
      "cell_type": "markdown",
      "metadata": {
        "id": "fkd7u5jI9LwU"
      },
      "source": [
        "## Further customizing a `FeatureSpace`\n",
        "\n",
        "Specifying the feature type via a string name is quick and easy,\n",
        "but sometimes you may want to further configure the preprocessing\n",
        "of each feature. For instance, in our case, our categorical\n",
        "features don't have a large set of possible values -- it's only\n",
        "a handful of values per feature (e.g. `1` and `0` for the feature `\"FBS\"`),\n",
        "and all possible values are represented in the training set.\n",
        "As a result, we don't need to reserve an index to represent \"out of vocabulary\" values\n",
        "for these features -- which would have been the default behavior.\n",
        "Below, we just specify `num_oov_indices=0` in each of these features\n",
        "to tell the feature preprocessor to skip \"out of vocabulary\" indexing.\n",
        "\n",
        "Other customizations you have access to include specifying the number of\n",
        "bins for discretizing features of type `\"float_discretized\"`,\n",
        "or the dimensionality of the hashing space for feature crossing."
      ]
    },
    {
      "cell_type": "code",
      "execution_count": 10,
      "metadata": {
        "id": "YsUCgRxv9LwU"
      },
      "outputs": [],
      "source": [
        "feature_space = FeatureSpace(\n",
        "    features={\n",
        "        # Categorical features encoded as integers\n",
        "        \"sex\": FeatureSpace.integer_categorical(num_oov_indices=0),\n",
        "        \"cp\": FeatureSpace.integer_categorical(num_oov_indices=0),\n",
        "        \"fbs\": FeatureSpace.integer_categorical(num_oov_indices=0),\n",
        "        \"restecg\": FeatureSpace.integer_categorical(num_oov_indices=0),\n",
        "        \"exang\": FeatureSpace.integer_categorical(num_oov_indices=0),\n",
        "        \"ca\": FeatureSpace.integer_categorical(num_oov_indices=0),\n",
        "        # Categorical feature encoded as string\n",
        "        \"thal\": FeatureSpace.string_categorical(num_oov_indices=0),\n",
        "        # Numerical features to normalize\n",
        "        \"age\": FeatureSpace.float_discretized(num_bins=30),\n",
        "        # Numerical features to normalize\n",
        "        \"trestbps\": FeatureSpace.float_normalized(),\n",
        "        \"chol\": FeatureSpace.float_normalized(),\n",
        "        \"thalach\": FeatureSpace.float_normalized(),\n",
        "        \"oldpeak\": FeatureSpace.float_normalized(),\n",
        "        \"slope\": FeatureSpace.float_normalized(),\n",
        "    },\n",
        "    # Specify feature cross with a custom crossing dim.\n",
        "    crosses=[\n",
        "        FeatureSpace.cross(feature_names=(\"sex\", \"age\"), crossing_dim=64),\n",
        "        FeatureSpace.cross(\n",
        "            feature_names=(\"thal\", \"ca\"),\n",
        "            crossing_dim=16,\n",
        "        ),\n",
        "    ],\n",
        "    output_mode=\"concat\",\n",
        ")"
      ]
    },
    {
      "cell_type": "markdown",
      "metadata": {
        "id": "x9AEIWhI9LwV"
      },
      "source": [
        "## Adapt the `FeatureSpace` to the training data\n",
        "\n",
        "Before we start using the `FeatureSpace` to build a model, we have\n",
        "to adapt it to the training data. During `adapt()`, the `FeatureSpace` will:\n",
        "\n",
        "- Index the set of possible values for categorical features.\n",
        "- Compute the mean and variance for numerical features to normalize.\n",
        "- Compute the value boundaries for the different bins for numerical features to discretize.\n",
        "\n",
        "Note that `adapt()` should be called on a `tf.data.Dataset` which yields dicts\n",
        "of feature values -- no labels."
      ]
    },
    {
      "cell_type": "code",
      "execution_count": 11,
      "metadata": {
        "id": "ASCLi1v29LwW"
      },
      "outputs": [],
      "source": [
        "train_ds_with_no_labels = train_ds.map(lambda x, _: x)\n",
        "feature_space.adapt(train_ds_with_no_labels)"
      ]
    },
    {
      "cell_type": "markdown",
      "metadata": {
        "id": "ZTAbkmUS9LwX"
      },
      "source": [
        "At this point, the `FeatureSpace` can be called on a dict of raw feature values, and will return a\n",
        "single concatenate vector for each sample, combining encoded features and feature crosses."
      ]
    },
    {
      "cell_type": "code",
      "execution_count": 12,
      "metadata": {
        "id": "o6VX1Dw79LwY",
        "outputId": "c23ca187-5797-4156-b4e7-1a824d7d4917",
        "colab": {
          "base_uri": "https://localhost:8080/"
        }
      },
      "outputs": [
        {
          "output_type": "stream",
          "name": "stdout",
          "text": [
            "preprocessed_x.shape: (32, 138)\n",
            "preprocessed_x.dtype: <dtype: 'float32'>\n"
          ]
        }
      ],
      "source": [
        "for x, _ in train_ds.take(1):\n",
        "    preprocessed_x = feature_space(x)\n",
        "    print(\"preprocessed_x.shape:\", preprocessed_x.shape)\n",
        "    print(\"preprocessed_x.dtype:\", preprocessed_x.dtype)"
      ]
    },
    {
      "cell_type": "markdown",
      "metadata": {
        "id": "y0QfVi4A9LwZ"
      },
      "source": [
        "## Two ways to manage preprocessing: as part of the `tf.data` pipeline, or in the model itself\n",
        "\n",
        "There are two ways in which you can leverage your `FeatureSpace`:\n",
        "\n",
        "### Asynchronous preprocessing in `tf.data`\n",
        "\n",
        "You can make it part of your data pipeline, before the model. This enables asynchronous parallel\n",
        "preprocessing of the data on CPU before it hits the model. Do this if you're training on GPU or TPU,\n",
        "or if you want to speed up preprocessing. Usually, this is always the right thing to do during training.\n",
        "\n",
        "### Synchronous preprocessing in the model\n",
        "\n",
        "You can make it part of your model. This means that the model will expect dicts of raw feature\n",
        "values, and the preprocessing batch will be done synchronously (in a blocking manner) before the\n",
        "rest of the forward pass. Do this if you want to have an end-to-end model that can process\n",
        "raw feature values -- but keep in mind that your model will only be able to run on CPU,\n",
        "since most types of feature preprocessing (e.g. string preprocessing) are not GPU or TPU compatible.\n",
        "\n",
        "Do not do this on GPU / TPU or in performance-sensitive settings. In general, you want to do in-model\n",
        "preprocessing when you do inference on CPU.\n",
        "\n",
        "In our case, we will apply the `FeatureSpace` in the tf.data pipeline during training, but we will\n",
        "do inference with an end-to-end model that includes the `FeatureSpace`."
      ]
    },
    {
      "cell_type": "markdown",
      "metadata": {
        "id": "g6GRDiqi9LwZ"
      },
      "source": [
        "Let's create a training and validation dataset of preprocessed batches:"
      ]
    },
    {
      "cell_type": "code",
      "execution_count": 13,
      "metadata": {
        "id": "NPv-gZSL9Lwa"
      },
      "outputs": [],
      "source": [
        "preprocessed_train_ds = train_ds.map(\n",
        "    lambda x, y: (feature_space(x), y), num_parallel_calls=tf.data.AUTOTUNE\n",
        ")\n",
        "preprocessed_train_ds = preprocessed_train_ds.prefetch(tf.data.AUTOTUNE)\n",
        "\n",
        "preprocessed_val_ds = val_ds.map(\n",
        "    lambda x, y: (feature_space(x), y), num_parallel_calls=tf.data.AUTOTUNE\n",
        ")\n",
        "preprocessed_val_ds = preprocessed_val_ds.prefetch(tf.data.AUTOTUNE)"
      ]
    },
    {
      "cell_type": "markdown",
      "metadata": {
        "id": "ftKjAT0M9Lwa"
      },
      "source": [
        "## Build a model\n",
        "\n",
        "Time to build a model -- or rather two models:\n",
        "\n",
        "- A training model that expects preprocessed features (one sample = one vector)\n",
        "- An inference model that expects raw features (one sample = dict of raw feature values)"
      ]
    },
    {
      "cell_type": "code",
      "execution_count": 14,
      "metadata": {
        "id": "BFaMVCZY9Lwb"
      },
      "outputs": [],
      "source": [
        "dict_inputs = feature_space.get_inputs()\n",
        "encoded_features = feature_space.get_encoded_features()\n",
        "\n",
        "x = keras.layers.Dense(32, activation=\"relu\")(encoded_features)\n",
        "x = keras.layers.Dropout(0.5)(x)\n",
        "predictions = keras.layers.Dense(1, activation=\"sigmoid\")(x)\n",
        "\n",
        "training_model = keras.Model(inputs=encoded_features, outputs=predictions)\n",
        "training_model.compile(\n",
        "    optimizer=\"adam\", loss=\"binary_crossentropy\", metrics=[\"accuracy\"]\n",
        ")\n",
        "\n",
        "inference_model = keras.Model(inputs=dict_inputs, outputs=predictions)"
      ]
    },
    {
      "cell_type": "markdown",
      "metadata": {
        "id": "t9z10NIX9Lwc"
      },
      "source": [
        "## Train the model\n",
        "\n",
        "Let's train our model for 50 epochs. Note that feature preprocessing is happening\n",
        "as part of the tf.data pipeline, not as part of the model."
      ]
    },
    {
      "cell_type": "code",
      "execution_count": 15,
      "metadata": {
        "id": "qroueNFg9Lwc",
        "outputId": "01652709-4a08-4e33-89c9-7be614d282d0",
        "colab": {
          "base_uri": "https://localhost:8080/"
        }
      },
      "outputs": [
        {
          "output_type": "stream",
          "name": "stdout",
          "text": [
            "Epoch 1/20\n",
            "8/8 - 7s - loss: 0.7216 - accuracy: 0.5124 - val_loss: 0.6858 - val_accuracy: 0.5410 - 7s/epoch - 814ms/step\n",
            "Epoch 2/20\n",
            "8/8 - 0s - loss: 0.6166 - accuracy: 0.6694 - val_loss: 0.6074 - val_accuracy: 0.7541 - 272ms/epoch - 34ms/step\n",
            "Epoch 3/20\n",
            "8/8 - 0s - loss: 0.5706 - accuracy: 0.7273 - val_loss: 0.5482 - val_accuracy: 0.7705 - 268ms/epoch - 33ms/step\n",
            "Epoch 4/20\n",
            "8/8 - 0s - loss: 0.5364 - accuracy: 0.7686 - val_loss: 0.5097 - val_accuracy: 0.7377 - 267ms/epoch - 33ms/step\n",
            "Epoch 5/20\n",
            "8/8 - 0s - loss: 0.4980 - accuracy: 0.7769 - val_loss: 0.4792 - val_accuracy: 0.7705 - 280ms/epoch - 35ms/step\n",
            "Epoch 6/20\n",
            "8/8 - 0s - loss: 0.4710 - accuracy: 0.7934 - val_loss: 0.4560 - val_accuracy: 0.7869 - 262ms/epoch - 33ms/step\n",
            "Epoch 7/20\n",
            "8/8 - 0s - loss: 0.4396 - accuracy: 0.8099 - val_loss: 0.4376 - val_accuracy: 0.7869 - 272ms/epoch - 34ms/step\n",
            "Epoch 8/20\n",
            "8/8 - 0s - loss: 0.4021 - accuracy: 0.8471 - val_loss: 0.4249 - val_accuracy: 0.7869 - 262ms/epoch - 33ms/step\n",
            "Epoch 9/20\n",
            "8/8 - 0s - loss: 0.4121 - accuracy: 0.8182 - val_loss: 0.4165 - val_accuracy: 0.7869 - 284ms/epoch - 35ms/step\n",
            "Epoch 10/20\n",
            "8/8 - 0s - loss: 0.3902 - accuracy: 0.8512 - val_loss: 0.4092 - val_accuracy: 0.7869 - 276ms/epoch - 35ms/step\n",
            "Epoch 11/20\n",
            "8/8 - 0s - loss: 0.3843 - accuracy: 0.8430 - val_loss: 0.4037 - val_accuracy: 0.7869 - 269ms/epoch - 34ms/step\n",
            "Epoch 12/20\n",
            "8/8 - 0s - loss: 0.3604 - accuracy: 0.8595 - val_loss: 0.4014 - val_accuracy: 0.8033 - 276ms/epoch - 34ms/step\n",
            "Epoch 13/20\n",
            "8/8 - 0s - loss: 0.3381 - accuracy: 0.8636 - val_loss: 0.3996 - val_accuracy: 0.8033 - 273ms/epoch - 34ms/step\n",
            "Epoch 14/20\n",
            "8/8 - 0s - loss: 0.3271 - accuracy: 0.8843 - val_loss: 0.3983 - val_accuracy: 0.8197 - 272ms/epoch - 34ms/step\n",
            "Epoch 15/20\n",
            "8/8 - 0s - loss: 0.3120 - accuracy: 0.8760 - val_loss: 0.3977 - val_accuracy: 0.8197 - 269ms/epoch - 34ms/step\n",
            "Epoch 16/20\n",
            "8/8 - 0s - loss: 0.3285 - accuracy: 0.8636 - val_loss: 0.3982 - val_accuracy: 0.8197 - 270ms/epoch - 34ms/step\n",
            "Epoch 17/20\n",
            "8/8 - 0s - loss: 0.3020 - accuracy: 0.8843 - val_loss: 0.3999 - val_accuracy: 0.8197 - 278ms/epoch - 35ms/step\n",
            "Epoch 18/20\n",
            "8/8 - 0s - loss: 0.3122 - accuracy: 0.8884 - val_loss: 0.4015 - val_accuracy: 0.8197 - 280ms/epoch - 35ms/step\n",
            "Epoch 19/20\n",
            "8/8 - 0s - loss: 0.2909 - accuracy: 0.8884 - val_loss: 0.4021 - val_accuracy: 0.8197 - 261ms/epoch - 33ms/step\n",
            "Epoch 20/20\n",
            "8/8 - 0s - loss: 0.3205 - accuracy: 0.8760 - val_loss: 0.4018 - val_accuracy: 0.8197 - 269ms/epoch - 34ms/step\n"
          ]
        },
        {
          "output_type": "execute_result",
          "data": {
            "text/plain": [
              "<keras.callbacks.History at 0x7f43b572de50>"
            ]
          },
          "metadata": {},
          "execution_count": 15
        }
      ],
      "source": [
        "training_model.fit(\n",
        "    preprocessed_train_ds, epochs=20, validation_data=preprocessed_val_ds, verbose=2\n",
        ")"
      ]
    },
    {
      "cell_type": "markdown",
      "metadata": {
        "id": "bpZIFdJQ9Lwd"
      },
      "source": [
        "We quickly get to 80% validation accuracy."
      ]
    },
    {
      "cell_type": "markdown",
      "metadata": {
        "id": "BYwbOQnn9Lwd"
      },
      "source": [
        "## Inference on new data with the end-to-end model\n",
        "\n",
        "Now, we can use our inference model (which includes the `FeatureSpace`)\n",
        "to make predictions based on dicts of raw features values, as follows:"
      ]
    },
    {
      "cell_type": "code",
      "execution_count": 17,
      "metadata": {
        "id": "ShFfoidC9Lwd",
        "outputId": "8e324869-7228-48e2-fb15-fb7e332aa0a5",
        "colab": {
          "base_uri": "https://localhost:8080/"
        }
      },
      "outputs": [
        {
          "output_type": "stream",
          "name": "stdout",
          "text": [
            "1/1 [==============================] - 0s 50ms/step\n",
            "This particular patient had a 42.59% probability of having a heart disease, as evaluated by our model.\n"
          ]
        }
      ],
      "source": [
        "sample = {\n",
        "    \"age\": 60,\n",
        "    \"sex\": 1,\n",
        "    \"cp\": 1,\n",
        "    \"trestbps\": 145,\n",
        "    \"chol\": 233,\n",
        "    \"fbs\": 1,\n",
        "    \"restecg\": 2,\n",
        "    \"thalach\": 150,\n",
        "    \"exang\": 0,\n",
        "    \"oldpeak\": 2.3,\n",
        "    \"slope\": 3,\n",
        "    \"ca\": 0,\n",
        "    \"thal\": \"fixed\",\n",
        "}\n",
        "\n",
        "input_dict = {name: tf.convert_to_tensor([value]) for name, value in sample.items()}\n",
        "predictions = inference_model.predict(input_dict)\n",
        "\n",
        "print(\n",
        "    f\"This particular patient had a {100 * predictions[0][0]:.2f}% probability \"\n",
        "    \"of having a heart disease, as evaluated by our model.\"\n",
        ")"
      ]
    }
  ],
  "metadata": {
    "accelerator": "GPU",
    "colab": {
      "provenance": [],
      "include_colab_link": true
    },
    "kernelspec": {
      "display_name": "Python 3",
      "language": "python",
      "name": "python3"
    },
    "language_info": {
      "codemirror_mode": {
        "name": "ipython",
        "version": 3
      },
      "file_extension": ".py",
      "mimetype": "text/x-python",
      "name": "python",
      "nbconvert_exporter": "python",
      "pygments_lexer": "ipython3",
      "version": "3.7.0"
    },
    "gpuClass": "standard"
  },
  "nbformat": 4,
  "nbformat_minor": 0
}